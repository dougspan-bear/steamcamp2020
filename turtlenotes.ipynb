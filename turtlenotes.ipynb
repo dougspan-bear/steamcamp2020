{
 "cells": [
  {
   "cell_type": "code",
   "execution_count": 1,
   "metadata": {
    "slideshow": {
     "slide_type": "slide"
    }
   },
   "outputs": [
    {
     "data": {
      "application/vnd.jupyter.widget-view+json": {
       "model_id": "444241c8e4a34b3da8e7463a9e0796ab",
       "version_major": 2,
       "version_minor": 0
      },
      "text/plain": [
       "Turtle()"
      ]
     },
     "metadata": {},
     "output_type": "display_data"
    }
   ],
   "source": [
    "from ipyturtle import Turtle\n",
    "\n",
    "t = Turtle()\n",
    "t"
   ]
  },
  {
   "cell_type": "code",
   "execution_count": 2,
   "metadata": {},
   "outputs": [],
   "source": [
    "#drawing a square\n",
    "t.reset()\n",
    "\n",
    "t.forward(100)\n",
    "t.right(90)\n",
    "t.forward(100)\n",
    "t.right(90)\n",
    "t.forward(100)\n",
    "t.right(90)\n",
    "t.forward(100)"
   ]
  },
  {
   "cell_type": "code",
   "execution_count": 3,
   "metadata": {},
   "outputs": [],
   "source": [
    "#drawing a square with a for loop\n",
    "t.reset()\n",
    "\n",
    "for index in range(4):\n",
    "    t.forward(100)\n",
    "    t.right(90)"
   ]
  },
  {
   "cell_type": "code",
   "execution_count": 5,
   "metadata": {},
   "outputs": [],
   "source": [
    "#drawing a circle by drawing straight lines 60 times\n",
    "t.reset()\n",
    "\n",
    "for index in range(60):\n",
    "    t.forward(3)\n",
    "    t.right(6)"
   ]
  },
  {
   "cell_type": "code",
   "execution_count": 6,
   "metadata": {},
   "outputs": [],
   "source": [
    "#changing pen color and drawing a square\n",
    "\n",
    "t.reset()\n",
    "\n",
    "t.pencolor('red')\n",
    "for index in range(4):\n",
    "    t.forward(100)\n",
    "    t.right(90)"
   ]
  },
  {
   "cell_type": "code",
   "execution_count": 7,
   "metadata": {},
   "outputs": [],
   "source": [
    "#alternate between red and blue while drawing a square\n",
    "\n",
    "t.reset()\n",
    "\n",
    "colors = ['red','blue']\n",
    "for index in range(4):\n",
    "    t.pencolor(colors[index%len(colors)]) #go through the colors in the color array\n",
    "    t.forward(100)\n",
    "    t.right(90)\n"
   ]
  },
  {
   "cell_type": "code",
   "execution_count": 18,
   "metadata": {},
   "outputs": [],
   "source": [
    "#rotate between colors while drawing a circle\n",
    "\n",
    "t.reset()\n",
    "\n",
    "colors = ['red','orange','yellow','green']\n",
    "for index in range(60):\n",
    "    t.pencolor(colors[index%len(colors)]) #go through the colors in the color array\n",
    "    t.forward(3)\n",
    "    t.right(6)\n",
    "\n",
    "t.pencolor('black')"
   ]
  },
  {
   "cell_type": "code",
   "execution_count": 19,
   "metadata": {},
   "outputs": [],
   "source": [
    "#creating a spiral\n",
    "t.reset()\n",
    "\n",
    "for index in range(360):\n",
    "    t.forward(index/16)\n",
    "    t.right(10)"
   ]
  },
  {
   "cell_type": "code",
   "execution_count": 22,
   "metadata": {},
   "outputs": [],
   "source": [
    "#creating a spiraling square\n",
    "t.reset()\n",
    "\n",
    "for index in range(360):\n",
    "    t.forward(index)\n",
    "    t.right(89)"
   ]
  },
  {
   "cell_type": "code",
   "execution_count": 30,
   "metadata": {},
   "outputs": [],
   "source": [
    "# creating functions goto\n",
    "def goto(x,y):\n",
    "    current_x, current_y = t.position()\n",
    "    current_heading=t.heading()\n",
    "    next_x, next_y = (x,y)\n",
    "    t.penup()\n",
    "    t.right(current_heading)\n",
    "    t.forward(next_x - current_x)\n",
    "    t.left(90)\n",
    "    t.forward(next_y - current_y)\n",
    "    t.pendown()"
   ]
  },
  {
   "cell_type": "code",
   "execution_count": 31,
   "metadata": {},
   "outputs": [],
   "source": [
    "goto(40,40)"
   ]
  },
  {
   "cell_type": "code",
   "execution_count": null,
   "metadata": {},
   "outputs": [],
   "source": []
  }
 ],
 "metadata": {
  "kernelspec": {
   "display_name": "Python 3",
   "language": "python",
   "name": "python3"
  },
  "language_info": {
   "codemirror_mode": {
    "name": "ipython",
    "version": 3
   },
   "file_extension": ".py",
   "mimetype": "text/x-python",
   "name": "python",
   "nbconvert_exporter": "python",
   "pygments_lexer": "ipython3",
   "version": "3.7.3"
  }
 },
 "nbformat": 4,
 "nbformat_minor": 4
}
